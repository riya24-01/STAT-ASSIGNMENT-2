{
  "nbformat": 4,
  "nbformat_minor": 0,
  "metadata": {
    "colab": {
      "provenance": [],
      "toc_visible": true
    },
    "kernelspec": {
      "name": "python3",
      "display_name": "Python 3"
    },
    "language_info": {
      "name": "python"
    }
  },
  "cells": [
    {
      "cell_type": "code",
      "execution_count": null,
      "metadata": {
        "id": "_NdpCidJgZGK"
      },
      "outputs": [],
      "source": [
        "import pandas as pd\n",
        "import numpy as np\n",
        "from scipy.stats import pearsonr\n",
        "from sklearn.linear_model import LinearRegression\n",
        "from sklearn.metrics import mean_squared_error\n",
        "\n",
        "sensex_data = pd.read_csv('sensex_data.csv')\n",
        "nifty_data = pd.read_csv('nifty_data.csv')\n",
        "\n",
        "sensex_returns = sensex_data['Close'].pct_change().dropna()\n",
        "nifty_returns = nifty_data['Close'].pct_change().dropna()\n",
        "\n",
        "correlation, _ = pearsonr(sensex_returns, nifty_returns)\n",
        "print(\"Correlation between SENSEX and NIFTY:\", correlation)\n",
        "\n",
        "sensex_zscore = (sensex_data['Close'] - sensex_data['Close'].rolling(window=30).mean()) / sensex_data['Close'].rolling(window=30).std()\n",
        "sensex_spike_events = sensex_zscore > 2\n",
        "\n",
        "sensex_spike_diff = sensex_data[sensex_spike_events]['Close'] - nifty_data[sensex_spike_events]['Close']\n",
        "\n",
        "X = sensex_returns.values.reshape(-1, 1)\n",
        "y = sensex_spike_diff.values\n",
        "\n",
        "model = LinearRegression()\n",
        "model.fit(X, y)\n",
        "\n",
        "predictions = model.predict(X)\n",
        "mse = mean_squared_error(y, predictions)\n",
        "print(\"Mean Squared Error:\", mse)\n",
        "\n"
      ]
    }
  ]
}